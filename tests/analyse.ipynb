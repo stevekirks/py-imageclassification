{
 "cells": [
  {
   "cell_type": "markdown",
   "id": "fantastic-grave",
   "metadata": {},
   "source": [
    "# Image Classification\n"
   ]
  },
  {
   "cell_type": "code",
   "execution_count": null,
   "id": "2b240d7e",
   "metadata": {},
   "outputs": [],
   "source": [
    "%pip install requests\n",
    "%pip install ipython"
   ]
  },
  {
   "cell_type": "code",
   "execution_count": null,
   "id": "preceding-hayes",
   "metadata": {},
   "outputs": [],
   "source": [
    "import os\n",
    "import requests\n",
    "from IPython.display import display, Image\n",
    "import time\n",
    "\n",
    "test_data_dir = \"./test-data\" # Expects this folder to exist with jpg images\n",
    "\n",
    "url = \"http://localhost:8080/image-classify\"\n",
    "headers = {\n",
    "    \"x-api-key\": \"myapikey321\"\n",
    "}\n",
    "\n",
    "files = os.listdir(test_data_dir)\n",
    "\n",
    "for file_name in files:\n",
    "    file_path = os.path.join(test_data_dir, file_name)\n",
    "    display(Image(filename=file_path, width=200))\n",
    "    with open(file_path, 'rb') as f:\n",
    "        files = {'file': (file_name, f, 'image/jpeg')}\n",
    "        start_time = time.time()\n",
    "        response = requests.post(url, headers=headers, files=files)\n",
    "        end_time = time.time()\n",
    "        request_time = end_time - start_time\n",
    "        if response.status_code == 200:\n",
    "            response_json = response.json()\n",
    "            predicted_labels = response_json.get(\"predicted_labels\", [])\n",
    "            if predicted_labels:\n",
    "                primary_label_info = predicted_labels[0]\n",
    "                primary_label = primary_label_info.get(\"label\")\n",
    "                primary_confidence = primary_label_info.get(\"confidence\") * 100\n",
    "                print(f\"Image: {file_name}, Predicted Label: {primary_label}, Confidence: {primary_confidence:.1f}%, Request Time: {request_time:.2f}s\")\n",
    "                if len(predicted_labels) > 1:\n",
    "                    secondary_label_info = predicted_labels[1]\n",
    "                    secondary_label = secondary_label_info.get(\"label\")\n",
    "                    secondary_confidence = secondary_label_info.get(\"confidence\") * 100\n",
    "                    print(f\"Next best Predicted Label: {secondary_label}, Confidence: {secondary_confidence:.1f}%\")\n",
    "            print(\"\\n\")\n",
    "        else:\n",
    "            print(f\"Failed to upload {file_name}: {response.status_code}, Request Time: {request_time:.2f}s\\n\")"
   ]
  },
  {
   "cell_type": "code",
   "execution_count": null,
   "id": "a4a16208",
   "metadata": {},
   "outputs": [],
   "source": []
  }
 ],
 "metadata": {
  "kernelspec": {
   "display_name": ".venv",
   "language": "python",
   "name": "python3"
  },
  "language_info": {
   "codemirror_mode": {
    "name": "ipython",
    "version": 3
   },
   "file_extension": ".py",
   "mimetype": "text/x-python",
   "name": "python",
   "nbconvert_exporter": "python",
   "pygments_lexer": "ipython3",
   "version": "3.12.3"
  }
 },
 "nbformat": 4,
 "nbformat_minor": 5
}
